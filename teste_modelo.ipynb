{
 "cells": [
  {
   "cell_type": "code",
   "execution_count": 2,
   "metadata": {},
   "outputs": [
    {
     "name": "stdout",
     "output_type": "stream",
     "text": [
      "b'eiceraticate'\n"
     ]
    }
   ],
   "source": [
    "import pandas as pd\n",
    "import pickle\n",
    "import hashlib\n",
    "import hmac\n",
    "import os\n",
    "from dotenv import load_dotenv\n",
    "from sklearn.preprocessing import LabelEncoder\n",
    "\n",
    "load_dotenv()\n",
    "\n",
    "chave = bytes(os.getenv('senha'), 'utf-8')\n",
    "print(chave)"
   ]
  },
  {
   "cell_type": "code",
   "execution_count": 3,
   "metadata": {},
   "outputs": [
    {
     "name": "stdout",
     "output_type": "stream",
     "text": [
      "DecisionTreeClassifier(ccp_alpha=0.0035974384731290825)\n"
     ]
    }
   ],
   "source": [
    "def desserializar_e_verificar(chave, arquivo):\n",
    "\n",
    "    dados_assinados = arquivo.read()\n",
    "\n",
    "    modelo_serializado = dados_assinados[:-32]\n",
    "\n",
    "    assinatura = dados_assinados[-32:]\n",
    "\n",
    "    assinatura_gerada = hmac.new(\n",
    "        chave, modelo_serializado, hashlib.sha256\n",
    "    ).digest()\n",
    "\n",
    "    if hmac.compare_digest(assinatura, assinatura_gerada):\n",
    "        return pickle.loads(modelo_serializado)\n",
    "    else:\n",
    "        return 'broxa'\n",
    "    \n",
    "with open('modelo_serializado.pickle', 'rb') as arquivo:\n",
    "    modelo_desserializado = desserializar_e_verificar(chave, arquivo)\n",
    "\n",
    "print(modelo_desserializado)"
   ]
  },
  {
   "cell_type": "code",
   "execution_count": 4,
   "metadata": {},
   "outputs": [
    {
     "data": {
      "text/html": [
       "<div>\n",
       "<style scoped>\n",
       "    .dataframe tbody tr th:only-of-type {\n",
       "        vertical-align: middle;\n",
       "    }\n",
       "\n",
       "    .dataframe tbody tr th {\n",
       "        vertical-align: top;\n",
       "    }\n",
       "\n",
       "    .dataframe thead th {\n",
       "        text-align: right;\n",
       "    }\n",
       "</style>\n",
       "<table border=\"1\" class=\"dataframe\">\n",
       "  <thead>\n",
       "    <tr style=\"text-align: right;\">\n",
       "      <th></th>\n",
       "      <th>Unnamed: 0</th>\n",
       "      <th>Pokedex ID</th>\n",
       "      <th>Name</th>\n",
       "      <th>Type_1</th>\n",
       "      <th>Type_2</th>\n",
       "      <th>Total</th>\n",
       "      <th>HP</th>\n",
       "      <th>Attack</th>\n",
       "      <th>Defense</th>\n",
       "      <th>Sp.Atk</th>\n",
       "      <th>Sp.Def</th>\n",
       "      <th>Speed</th>\n",
       "      <th>Is_legendary</th>\n",
       "    </tr>\n",
       "  </thead>\n",
       "  <tbody>\n",
       "    <tr>\n",
       "      <th>0</th>\n",
       "      <td>1035</td>\n",
       "      <td>1017</td>\n",
       "      <td>Ogerpon</td>\n",
       "      <td>Dragon</td>\n",
       "      <td>Grass</td>\n",
       "      <td>550</td>\n",
       "      <td>80</td>\n",
       "      <td>120</td>\n",
       "      <td>84</td>\n",
       "      <td>60</td>\n",
       "      <td>96</td>\n",
       "      <td>110</td>\n",
       "      <td>1</td>\n",
       "    </tr>\n",
       "  </tbody>\n",
       "</table>\n",
       "</div>"
      ],
      "text/plain": [
       "   Unnamed: 0  Pokedex ID     Name  Type_1 Type_2  Total  HP  Attack  Defense  \\\n",
       "0        1035        1017  Ogerpon  Dragon  Grass    550  80     120       84   \n",
       "\n",
       "   Sp.Atk  Sp.Def  Speed  Is_legendary  \n",
       "0      60      96    110             1  "
      ]
     },
     "metadata": {},
     "output_type": "display_data"
    }
   ],
   "source": [
    "ogerpon = [{\"Unnamed: 0\": 1035,\n",
    "\"Pokedex ID\":1017,\n",
    "\"Name\":\"Ogerpon\",\n",
    "\"Type_1\":\"Dragon\",\n",
    "\"Type_2\":\"Grass\",\n",
    "\"Total\":550,\n",
    "\"HP\":80,\n",
    "\"Attack\":120,\n",
    "\"Defense\":84,\n",
    "\"Sp.Atk\":60,\n",
    "\"Sp.Def\":96,\n",
    "\"Speed\":110,\n",
    "\"Is_legendary\":1}]\n",
    "\n",
    "ogerpon = pd.DataFrame(ogerpon)\n",
    "\n",
    "display(ogerpon)"
   ]
  },
  {
   "cell_type": "code",
   "execution_count": 5,
   "metadata": {},
   "outputs": [],
   "source": [
    "a = ogerpon.drop(labels='Is_legendary', axis=1)\n",
    "b = ogerpon['Is_legendary'].values"
   ]
  },
  {
   "cell_type": "code",
   "execution_count": 6,
   "metadata": {},
   "outputs": [],
   "source": [
    "label_encoder = LabelEncoder()\n",
    "\n",
    "for column_name in a:\n",
    "    column_dtype = a[column_name].dtype\n",
    "    if column_dtype == 'object':\n",
    "     a[column_name] = label_encoder.fit_transform(a[column_name])"
   ]
  },
  {
   "cell_type": "code",
   "execution_count": 7,
   "metadata": {},
   "outputs": [
    {
     "name": "stdout",
     "output_type": "stream",
     "text": [
      "[0]\n"
     ]
    },
    {
     "name": "stderr",
     "output_type": "stream",
     "text": [
      "C:\\Users\\muril\\AppData\\Local\\Packages\\PythonSoftwareFoundation.Python.3.10_qbz5n2kfra8p0\\LocalCache\\local-packages\\Python310\\site-packages\\sklearn\\base.py:443: UserWarning: X has feature names, but DecisionTreeClassifier was fitted without feature names\n",
      "  warnings.warn(\n"
     ]
    }
   ],
   "source": [
    "teste = modelo_desserializado.predict(a)\n",
    "print(teste)"
   ]
  }
 ],
 "metadata": {
  "kernelspec": {
   "display_name": "Python 3",
   "language": "python",
   "name": "python3"
  },
  "language_info": {
   "codemirror_mode": {
    "name": "ipython",
    "version": 3
   },
   "file_extension": ".py",
   "mimetype": "text/x-python",
   "name": "python",
   "nbconvert_exporter": "python",
   "pygments_lexer": "ipython3",
   "version": "3.10.11"
  },
  "orig_nbformat": 4
 },
 "nbformat": 4,
 "nbformat_minor": 2
}
