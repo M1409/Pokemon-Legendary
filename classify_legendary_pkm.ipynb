{
 "cells": [
  {
   "cell_type": "code",
   "execution_count": 1,
   "metadata": {},
   "outputs": [],
   "source": [
    "import pandas as pd"
   ]
  },
  {
   "cell_type": "code",
   "execution_count": 2,
   "metadata": {},
   "outputs": [],
   "source": [
    "pokemon_lendary = ['Enamorus','Raikou','Calyrex','Kyurem','Regirock','Zeraora','Tapu Koko','Suicune','Terrakion','Nihilego','Diancie','Azelf','Arceus','Mew','Zapdos','Xurkitree','Jirachi','Mewtwo','Tornadus','Keldeo','Thundurus','Landorus','Cobalion','Mesprit','Galarian Zapdos','Galarian Moltres','Zamazenta','Kartana','Magearna','Stakataka','Tapu Lele','Silvally','Cosmoem','Necrozma','Rayquaza','Regice','Volcanion','Zarude','Dialga','Regidrago','Solgaleo','Regieleki','Eternatus','Tapu Fini','Palkia','Lunala','Celebi','Pheromosa','Zacian','Xerneas','Hoopa','Reshiram','Genesect','Yveltal','Deoxys','Cresselia','Glastrier','Naganadel','Marshadow','Melmetal','Latios','Urshifu-rapid-strike','Buzzwole','Type: Null','Meloetta','Giratina','Virizion','Phione','Regigigas','Kyogre','Latias','Lugia','Entei','Blacephalon','Galarian Articuno','Victini','Spectrier','Shaymin','Ho-Oh','Celesteela','Uxie','Cosmog','Guzzlord','Articuno','Darkrai','Zekrom','Registeel','Groudon','Moltres','Tapu Bulu','Manaphy','Zygarde','Heatran','Miraidon','Koraidon','Chi-yu','Wo-chien','Ting-lu','Chien-pao','Iron Leaves','Walking Wake']\n",
    "\n",
    "df_pokemon_all = pd.read_excel('pokemon_data.xlsx')"
   ]
  },
  {
   "cell_type": "code",
   "execution_count": 4,
   "metadata": {},
   "outputs": [
    {
     "ename": "SyntaxError",
     "evalue": "f-string: unmatched '[' (2022699623.py, line 7)",
     "output_type": "error",
     "traceback": [
      "\u001b[1;36m  File \u001b[1;32m\"C:\\Users\\matheusgermano\\AppData\\Local\\Temp\\ipykernel_14084\\2022699623.py\"\u001b[1;36m, line \u001b[1;32m7\u001b[0m\n\u001b[1;33m    print(f'Lista: {i} \\n Dataframe: {df_pokemon_all['Name'].values}')\u001b[0m\n\u001b[1;37m                                                      ^\u001b[0m\n\u001b[1;31mSyntaxError\u001b[0m\u001b[1;31m:\u001b[0m f-string: unmatched '['\n"
     ]
    }
   ],
   "source": [
    "classificados = []\n",
    "\n",
    "df_pokemon_all['Is_legendary'] = False\n",
    "\n",
    "for i in pokemon_lendary:\n",
    "    if i in df_pokemon_all['Name'].values:\n",
    "        print(f'Lista: {i} \\n Dataframe: {df_pokemon_all['Name'].values}')\n",
    "        df_pokemon_all.loc[df_pokemon_all['Name'] == i, 'Is_legendary'] = True\n",
    "\n",
    "df_pokemon_all.loc[df_pokemon_all['Is_legendary'] == True]"
   ]
  }
 ],
 "metadata": {
  "kernelspec": {
   "display_name": "Python 3",
   "language": "python",
   "name": "python3"
  },
  "language_info": {
   "codemirror_mode": {
    "name": "ipython",
    "version": 3
   },
   "file_extension": ".py",
   "mimetype": "text/x-python",
   "name": "python",
   "nbconvert_exporter": "python",
   "pygments_lexer": "ipython3",
   "version": "3.9.13"
  },
  "orig_nbformat": 4
 },
 "nbformat": 4,
 "nbformat_minor": 2
}
