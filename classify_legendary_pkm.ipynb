{
 "cells": [
  {
   "cell_type": "code",
   "execution_count": 399,
   "metadata": {},
   "outputs": [],
   "source": [
    "import pandas as pd\n",
    "import matplotlib.pyplot as plt\n",
    "from sklearn import tree\n",
    "from sklearn.tree import DecisionTreeClassifier\n",
    "from sklearn.preprocessing import OrdinalEncoder\n",
    "from sklearn import preprocessing\n",
    "from sklearn.model_selection import train_test_split\n",
    "from sklearn.model_selection import GridSearchCV\n",
    "from sklearn.compose import ColumnTransformer\n",
    "from sklearn.compose import make_column_selector\n",
    "from sklearn.model_selection import train_test_split\n",
    "from sklearn.metrics import accuracy_score\n",
    "from sklearn.metrics import confusion_matrix\n",
    "import random"
   ]
  },
  {
   "cell_type": "code",
   "execution_count": 400,
   "metadata": {},
   "outputs": [],
   "source": [
    "legendary_name = ['Enamorus','Raikou','Calyrex','Kyurem','Regirock','Zeraora','Tapu Koko','Suicune','Terrakion','Nihilego','Diancie','Azelf','Arceus','Mew','Zapdos','Xurkitree','Jirachi','Mewtwo','Tornadus','Keldeo','Thundurus','Landorus','Cobalion','Mesprit','Zapdos Galarian Zapdos','Moltres Galarian Moltres','Zamazenta','Kartana','Magearna','Stakataka','Tapu Lele','Silvally','Cosmoem','Necrozma','Rayquaza','Regice','Volcanion','Zarude','Dialga','Regidrago','Solgaleo','Regieleki','Eternatus','Tapu Fini','Palkia','Lunala','Celebi','Pheromosa','Zacian','Xerneas','Hoopa','Reshiram','Genesect','Yveltal','Deoxys','Cresselia','Glastrier','Naganadel','Marshadow','Melmetal','Latios','Urshifu Rapid Strike Style','Buzzwole','Type: Null','Meloetta','Giratina','Virizion','Phione','Regigigas','Kyogre','Latias','Lugia','Entei','Blacephalon','Articuno Galarian Articuno','Victini','Spectrier','Shaymin','Ho-Oh','Celesteela','Uxie','Cosmog','Guzzlord','Articuno','Darkrai','Zekrom','Registeel','Groudon','Moltres','Tapu Bulu','Manaphy','Zygarde','Heatran','Miraidon','Koraidon','Chi-yu','Wo-chien','Ting-lu','Chien-pao','Iron Leaves','Walking Wake']\n",
    "\n",
    "df_pokemon_all = pd.read_excel('pokemon_data.xlsx')\n",
    "\n",
    "palavras_procuradas = ['Alolan', 'Galarian', 'Hisuian', 'Paldean']\n",
    "regex = '|'.join(palavras_procuradas)\n",
    "df_pokemon_regional = df_pokemon_all[df_pokemon_all['Name'].str.contains(regex, case=0, na=0, regex=True)]\n",
    "df_pokemon_regional.reset_index(inplace=True, drop=True)\n",
    "\n",
    "df_pokemon_all = df_pokemon_all.drop_duplicates(subset='Pokedex ID')\n",
    "df_pokemon_all = pd.concat([df_pokemon_all, df_pokemon_regional])\n",
    "df_pokemon_all.reset_index(inplace=True, drop=True)"
   ]
  },
  {
   "cell_type": "code",
   "execution_count": 401,
   "metadata": {},
   "outputs": [],
   "source": [
    "df_pokemon_all['Is_legendary'] = 0\n",
    "\n",
    "for i in legendary_name:\n",
    "    df_pokemon_all.loc[df_pokemon_all['Name'].str.contains(i, case=0), 'Is_legendary'] = 1\n"
   ]
  },
  {
   "cell_type": "code",
   "execution_count": 402,
   "metadata": {},
   "outputs": [],
   "source": [
    "df_not_legendary = df_pokemon_all.loc[df_pokemon_all['Is_legendary'] == 0]"
   ]
  },
  {
   "cell_type": "code",
   "execution_count": 403,
   "metadata": {},
   "outputs": [],
   "source": [
    "not_legendary = list(df_not_legendary['Name'].sample(n=500, random_state=1))\n",
    "for i in range(500):\n",
    "    df_pokemon_all = df_pokemon_all.drop(df_pokemon_all[df_pokemon_all['Name'] == not_legendary[i]].index)"
   ]
  },
  {
   "cell_type": "code",
   "execution_count": 404,
   "metadata": {},
   "outputs": [
    {
     "data": {
      "image/png": "[encoded data removed]",
      "text/plain": [
       "<Figure size 640x480 with 1 Axes>"
      ]
     },
     "metadata": {},
     "output_type": "display_data"
    }
   ],
   "source": [
    "df_pokemon_all.boxplot(column='HP')\n",
    "plt.show()"
   ]
  },
  {
   "cell_type": "code",
   "execution_count": 405,
   "metadata": {},
   "outputs": [],
   "source": [
    "df_pokemon_all = df_pokemon_all.drop(df_pokemon_all[df_pokemon_all['HP'] >= 150].index)"
   ]
  },
  {
   "cell_type": "code",
   "execution_count": 406,
   "metadata": {},
   "outputs": [
    {
     "data": {
      "image/png": "[encoded data removed]",
      "text/plain": [
       "<Figure size 640x480 with 1 Axes>"
      ]
     },
     "metadata": {},
     "output_type": "display_data"
    }
   ],
   "source": [
    "df_pokemon_all.boxplot(column='Defense')\n",
    "plt.show()"
   ]
  },
  {
   "cell_type": "code",
   "execution_count": 407,
   "metadata": {},
   "outputs": [],
   "source": [
    "df_pokemon_all = df_pokemon_all.drop(df_pokemon_all[df_pokemon_all['Defense'] >= 150].index)\n",
    "df_pokemon_all.reset_index(drop=True, inplace=True)\n",
    "df_pokemon_all.to_excel('pokemon_data_tratado.xlsx')"
   ]
  },
  {
   "cell_type": "code",
   "execution_count": 408,
   "metadata": {},
   "outputs": [
    {
     "name": "stdout",
     "output_type": "stream",
     "text": [
      "548\n"
     ]
    }
   ],
   "source": [
    "colunas = list(df_pokemon_all.columns)\n",
    "colunas_sem_resposta = colunas.copy()\n",
    "colunas_sem_resposta.pop(-1)\n",
    "atributos = df_pokemon_all[colunas_sem_resposta].values\n",
    "resposta = df_pokemon_all['Is_legendary'].values\n",
    "print(len(resposta))"
   ]
  },
  {
   "cell_type": "code",
   "execution_count": 409,
   "metadata": {},
   "outputs": [],
   "source": [
    "from sklearn.naive_bayes import GaussianNB\n",
    "from sklearn.preprocessing import LabelEncoder"
   ]
  },
  {
   "cell_type": "code",
   "execution_count": 410,
   "metadata": {},
   "outputs": [],
   "source": [
    "lista = list(df_pokemon_all.select_dtypes(include=['object']))\n",
    "indices = [colunas_sem_resposta.index(i) for i in lista]\n",
    "label_encoder = LabelEncoder()\n",
    "for i in indices:\n",
    "    atributos[:,i] = label_encoder.fit_transform(atributos[:, i])"
   ]
  },
  {
   "cell_type": "code",
   "execution_count": 411,
   "metadata": {},
   "outputs": [],
   "source": [
    "label_encoder2 = LabelEncoder()\n",
    "resposta = label_encoder2.fit_transform(resposta)"
   ]
  },
  {
   "cell_type": "code",
   "execution_count": null,
   "metadata": {},
   "outputs": [],
   "source": []
  },
  {
   "cell_type": "code",
   "execution_count": 412,
   "metadata": {},
   "outputs": [
    {
     "name": "stdout",
     "output_type": "stream",
     "text": [
      "[0 1]\n"
     ]
    }
   ],
   "source": [
    "print(label_encoder2.classes_)"
   ]
  },
  {
   "cell_type": "code",
   "execution_count": 413,
   "metadata": {},
   "outputs": [],
   "source": [
    "atributos_treino, atributos_teste, resposta_treino, resposta_teste = train_test_split(atributos, resposta, test_size=0.20, random_state=0)"
   ]
  },
  {
   "cell_type": "code",
   "execution_count": 414,
   "metadata": {},
   "outputs": [],
   "source": [
    "classificador_bayes = GaussianNB()\n",
    "classificador_bayes.fit(atributos_treino, resposta_treino)\n",
    "classificacao = classificador_bayes.predict(atributos_teste)"
   ]
  },
  {
   "cell_type": "code",
   "execution_count": 415,
   "metadata": {},
   "outputs": [
    {
     "name": "stdout",
     "output_type": "stream",
     "text": [
      "0.9\n"
     ]
    }
   ],
   "source": [
    "taxa_acerto = accuracy_score(resposta_teste, classificacao)\n",
    "print(taxa_acerto)"
   ]
  }
 ],
 "metadata": {
  "kernelspec": {
   "display_name": "Python 3",
   "language": "python",
   "name": "python3"
  },
  "language_info": {
   "codemirror_mode": {
    "name": "ipython",
    "version": 3
   },
   "file_extension": ".py",
   "mimetype": "text/x-python",
   "name": "python",
   "nbconvert_exporter": "python",
   "pygments_lexer": "ipython3",
   "version": "3.10.8"
  },
  "orig_nbformat": 4
 },
 "nbformat": 4,
 "nbformat_minor": 2
}
